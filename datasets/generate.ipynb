{
 "cells": [
  {
   "cell_type": "code",
   "execution_count": 1,
   "metadata": {},
   "outputs": [],
   "source": [
    "# to make import like we would be in root directory\n",
    "import sys\n",
    "sys.path.append('..')"
   ]
  },
  {
   "cell_type": "code",
   "execution_count": 4,
   "metadata": {},
   "outputs": [],
   "source": [
    "import numpy as np\n",
    "import cv2\n",
    "from lib.generator import generate_pages\n",
    "from lib.data import load_book, load_emnist, load_kmnist\n",
    "from pathlib import Path"
   ]
  },
  {
   "cell_type": "code",
   "execution_count": 5,
   "metadata": {},
   "outputs": [],
   "source": [
    "book = load_book()\n",
    "kmnist = load_kmnist()\n",
    "emnist = load_emnist()"
   ]
  },
  {
   "cell_type": "code",
   "execution_count": 9,
   "metadata": {},
   "outputs": [],
   "source": [
    "def generate_dataset(name, corruption_prob, salt_prob, rotation, max_scale, unique_characters):\n",
    "    dataset_dir = Path(name)\n",
    "    emnist_dir = dataset_dir / 'EMNIST'\n",
    "    kmnist_dir = dataset_dir / 'KMNIST'\n",
    "    text_path = dataset_dir / 'text.txt'\n",
    "    \n",
    "    if dataset_dir.exists():\n",
    "        return\n",
    "    \n",
    "    dataset_dir.mkdir()\n",
    "    emnist_dir.mkdir()\n",
    "    kmnist_dir.mkdir()\n",
    "    \n",
    "    np.random.seed(42)\n",
    "    emnist_pages, gen_text = generate_pages(book, emnist, corruption_prob, salt_prob, rotation, max_scale, unique_characters)\n",
    "    kmnist_pages, _ = generate_pages(book, kmnist, corruption_prob, salt_prob, rotation, max_scale, unique_characters)\n",
    "    \n",
    "    with open(str(text_path), 'w') as file:\n",
    "        file.write(gen_text)\n",
    "\n",
    "    for i in range(len(emnist_pages)):\n",
    "        emnist_path = str(emnist_dir / f'{i}.png')\n",
    "        kmnist_path = str(kmnist_dir / f'{i}.png')\n",
    "        \n",
    "        cv2.imwrite(emnist_path, emnist_pages[i]*255)\n",
    "        cv2.imwrite(kmnist_path, kmnist_pages[i]*255)"
   ]
  },
  {
   "cell_type": "code",
   "execution_count": 6,
   "metadata": {},
   "outputs": [
    {
     "name": "stderr",
     "output_type": "stream",
     "text": [
      "100%|██████████| 138142/138142 [00:14<00:00, 9288.63it/s] \n",
      "100%|██████████| 138142/138142 [00:14<00:00, 9230.66it/s] \n"
     ]
    }
   ],
   "source": [
    "generate_dataset(\n",
    "    name='clean',\n",
    "    corruption_prob=0,\n",
    "    salt_prob=0,\n",
    "    rotation=0,\n",
    "    max_scale=1.0,\n",
    "    unique_characters=1\n",
    ")"
   ]
  },
  {
   "cell_type": "code",
   "execution_count": 7,
   "metadata": {},
   "outputs": [
    {
     "name": "stderr",
     "output_type": "stream",
     "text": [
      "100%|██████████| 138142/138142 [00:15<00:00, 8893.58it/s] \n",
      "100%|██████████| 138142/138142 [00:15<00:00, 9001.45it/s] \n"
     ]
    }
   ],
   "source": [
    "generate_dataset(\n",
    "    name='noise_only',\n",
    "    corruption_prob=0,\n",
    "    salt_prob=0.05,\n",
    "    rotation=0,\n",
    "    max_scale=1.0,\n",
    "    unique_characters=1\n",
    ")"
   ]
  },
  {
   "cell_type": "code",
   "execution_count": 8,
   "metadata": {},
   "outputs": [
    {
     "name": "stderr",
     "output_type": "stream",
     "text": [
      "100%|██████████| 138142/138142 [00:26<00:00, 5225.43it/s]\n",
      "100%|██████████| 138142/138142 [00:26<00:00, 5178.82it/s]\n"
     ]
    }
   ],
   "source": [
    "generate_dataset(\n",
    "    name='max_distortions_1_char',\n",
    "    corruption_prob=0.3,\n",
    "    salt_prob=0.05,\n",
    "    rotation=30,\n",
    "    max_scale=1.15,\n",
    "    unique_characters=1\n",
    ")"
   ]
  },
  {
   "cell_type": "code",
   "execution_count": 11,
   "metadata": {},
   "outputs": [
    {
     "name": "stderr",
     "output_type": "stream",
     "text": [
      "100%|██████████| 138142/138142 [00:26<00:00, 5203.49it/s]\n",
      "100%|██████████| 138142/138142 [00:26<00:00, 5145.87it/s]\n"
     ]
    }
   ],
   "source": [
    "generate_dataset(\n",
    "    name='max_distortions_3_char',\n",
    "    corruption_prob=0.3,\n",
    "    salt_prob=0.05,\n",
    "    rotation=30,\n",
    "    max_scale=1.15,\n",
    "    unique_characters=3\n",
    ")"
   ]
  },
  {
   "cell_type": "code",
   "execution_count": 12,
   "metadata": {},
   "outputs": [
    {
     "name": "stderr",
     "output_type": "stream",
     "text": [
      "100%|██████████| 138142/138142 [00:26<00:00, 5197.68it/s]\n",
      "100%|██████████| 138142/138142 [00:26<00:00, 5179.83it/s]\n"
     ]
    }
   ],
   "source": [
    "generate_dataset(\n",
    "    name='max_distortions_5_char',\n",
    "    corruption_prob=0.3,\n",
    "    salt_prob=0.05,\n",
    "    rotation=30,\n",
    "    max_scale=1.15,\n",
    "    unique_characters=5\n",
    ")"
   ]
  }
 ],
 "metadata": {
  "kernelspec": {
   "display_name": "un7",
   "language": "python",
   "name": "python3"
  },
  "language_info": {
   "codemirror_mode": {
    "name": "ipython",
    "version": 3
   },
   "file_extension": ".py",
   "mimetype": "text/x-python",
   "name": "python",
   "nbconvert_exporter": "python",
   "pygments_lexer": "ipython3",
   "version": "3.10.2"
  },
  "orig_nbformat": 4,
  "vscode": {
   "interpreter": {
    "hash": "b2a0da90c97a54e4485751a7a54e4fa395d5941d4ccd4173eb21aff8246a63b8"
   }
  }
 },
 "nbformat": 4,
 "nbformat_minor": 2
}
